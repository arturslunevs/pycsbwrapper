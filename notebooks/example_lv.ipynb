{
 "cells": [
  {
   "cell_type": "code",
   "execution_count": 1,
   "metadata": {},
   "outputs": [],
   "source": [
    "from pycsbwrapper import CSB\n",
    "from matplotlib import pyplot as plt\n",
    "\n",
    "import pandas as pd"
   ]
  },
  {
   "cell_type": "markdown",
   "metadata": {},
   "source": [
    "# Datu ielādes paraugs\n",
    "\n",
    "Izmantosim CSB klasi, lai iegūtu un attēlotu indiešu skaitu Latvijā."
   ]
  },
  {
   "cell_type": "code",
   "execution_count": 9,
   "metadata": {},
   "outputs": [
    {
     "data": {
      "text/plain": [
       "{'query': [{'code': 'ETHNICITY',\n",
       "   'selection': {'filter': 'item', 'values': ['E_IND']}},\n",
       "  {'code': 'TIME',\n",
       "   'selection': {'filter': 'item',\n",
       "    'values': ['2011',\n",
       "     '2012',\n",
       "     '2013',\n",
       "     '2014',\n",
       "     '2015',\n",
       "     '2016',\n",
       "     '2017',\n",
       "     '2018',\n",
       "     '2019',\n",
       "     '2020',\n",
       "     '2021',\n",
       "     '2022',\n",
       "     '2023',\n",
       "     '2024',\n",
       "     '2025']}}],\n",
       " 'response': {'format': 'json'}}"
      ]
     },
     "execution_count": 9,
     "metadata": {},
     "output_type": "execute_result"
    }
   ],
   "source": [
    "csb = CSB('lv', 'POP', 'IR', 'IRE', 'IRE010')\n",
    "csb.set_query(ETHNICITY=['E_IND'],\n",
    "    TIME = [str(i) for i in range(2010, 2026)])\n",
    "csb.get_query()"
   ]
  },
  {
   "cell_type": "code",
   "execution_count": 11,
   "metadata": {},
   "outputs": [
    {
     "data": {
      "text/plain": [
       "{'columns': [{'code': 'ETHNICITY', 'text': 'Tautība', 'type': 'd'},\n",
       "  {'code': 'TIME', 'text': 'Laika periods', 'type': 't'},\n",
       "  {'code': 'Iedzīvotāji pēc tautības gada sākumā',\n",
       "   'text': 'Iedzīvotāji pēc tautības gada sākumā',\n",
       "   'type': 'c'}],\n",
       " 'comments': [],\n",
       " 'data': [{'key': [{'code': 'E_IND', 'text': 'Indieši'},\n",
       "    {'code': '2011', 'text': '2011'}],\n",
       "   'values': ['59']},\n",
       "  {'key': [{'code': 'E_IND', 'text': 'Indieši'},\n",
       "    {'code': '2012', 'text': '2012'}],\n",
       "   'values': ['57']},\n",
       "  {'key': [{'code': 'E_IND', 'text': 'Indieši'},\n",
       "    {'code': '2013', 'text': '2013'}],\n",
       "   'values': ['68']},\n",
       "  {'key': [{'code': 'E_IND', 'text': 'Indieši'},\n",
       "    {'code': '2014', 'text': '2014'}],\n",
       "   'values': ['70']},\n",
       "  {'key': [{'code': 'E_IND', 'text': 'Indieši'},\n",
       "    {'code': '2015', 'text': '2015'}],\n",
       "   'values': ['101']},\n",
       "  {'key': [{'code': 'E_IND', 'text': 'Indieši'},\n",
       "    {'code': '2016', 'text': '2016'}],\n",
       "   'values': ['141']},\n",
       "  {'key': [{'code': 'E_IND', 'text': 'Indieši'},\n",
       "    {'code': '2017', 'text': '2017'}],\n",
       "   'values': ['186']},\n",
       "  {'key': [{'code': 'E_IND', 'text': 'Indieši'},\n",
       "    {'code': '2018', 'text': '2018'}],\n",
       "   'values': ['661']},\n",
       "  {'key': [{'code': 'E_IND', 'text': 'Indieši'},\n",
       "    {'code': '2019', 'text': '2019'}],\n",
       "   'values': ['1137']},\n",
       "  {'key': [{'code': 'E_IND', 'text': 'Indieši'},\n",
       "    {'code': '2020', 'text': '2020'}],\n",
       "   'values': ['1351']},\n",
       "  {'key': [{'code': 'E_IND', 'text': 'Indieši'},\n",
       "    {'code': '2021', 'text': '2021'}],\n",
       "   'values': ['1139']},\n",
       "  {'key': [{'code': 'E_IND', 'text': 'Indieši'},\n",
       "    {'code': '2022', 'text': '2022'}],\n",
       "   'values': ['1181']},\n",
       "  {'key': [{'code': 'E_IND', 'text': 'Indieši'},\n",
       "    {'code': '2023', 'text': '2023'}],\n",
       "   'values': ['338']},\n",
       "  {'key': [{'code': 'E_IND', 'text': 'Indieši'},\n",
       "    {'code': '2024', 'text': '2024'}],\n",
       "   'values': ['336']},\n",
       "  {'key': [{'code': 'E_IND', 'text': 'Indieši'},\n",
       "    {'code': '2025', 'text': '2025'}],\n",
       "   'values': ['329']}],\n",
       " 'metadata': [{'infofile': '001',\n",
       "   'updated': '2025-06-04T10:44:00Z',\n",
       "   'label': 'Iedzīvotāji pēc tautības gada sākumā - Tautība un Laika periods',\n",
       "   'source': 'Centrālā statistikas pārvalde'}]}"
      ]
     },
     "execution_count": 11,
     "metadata": {},
     "output_type": "execute_result"
    }
   ],
   "source": [
    "scb_data = csb.get_data(return_text=True)\n",
    "scb_data"
   ]
  },
  {
   "cell_type": "code",
   "execution_count": 12,
   "metadata": {},
   "outputs": [
    {
     "data": {
      "text/plain": [
       "[{'key': [{'code': 'E_IND', 'text': 'Indieši'},\n",
       "   {'code': '2011', 'text': '2011'}],\n",
       "  'values': ['59']},\n",
       " {'key': [{'code': 'E_IND', 'text': 'Indieši'},\n",
       "   {'code': '2012', 'text': '2012'}],\n",
       "  'values': ['57']},\n",
       " {'key': [{'code': 'E_IND', 'text': 'Indieši'},\n",
       "   {'code': '2013', 'text': '2013'}],\n",
       "  'values': ['68']},\n",
       " {'key': [{'code': 'E_IND', 'text': 'Indieši'},\n",
       "   {'code': '2014', 'text': '2014'}],\n",
       "  'values': ['70']},\n",
       " {'key': [{'code': 'E_IND', 'text': 'Indieši'},\n",
       "   {'code': '2015', 'text': '2015'}],\n",
       "  'values': ['101']},\n",
       " {'key': [{'code': 'E_IND', 'text': 'Indieši'},\n",
       "   {'code': '2016', 'text': '2016'}],\n",
       "  'values': ['141']},\n",
       " {'key': [{'code': 'E_IND', 'text': 'Indieši'},\n",
       "   {'code': '2017', 'text': '2017'}],\n",
       "  'values': ['186']},\n",
       " {'key': [{'code': 'E_IND', 'text': 'Indieši'},\n",
       "   {'code': '2018', 'text': '2018'}],\n",
       "  'values': ['661']},\n",
       " {'key': [{'code': 'E_IND', 'text': 'Indieši'},\n",
       "   {'code': '2019', 'text': '2019'}],\n",
       "  'values': ['1137']},\n",
       " {'key': [{'code': 'E_IND', 'text': 'Indieši'},\n",
       "   {'code': '2020', 'text': '2020'}],\n",
       "  'values': ['1351']},\n",
       " {'key': [{'code': 'E_IND', 'text': 'Indieši'},\n",
       "   {'code': '2021', 'text': '2021'}],\n",
       "  'values': ['1139']},\n",
       " {'key': [{'code': 'E_IND', 'text': 'Indieši'},\n",
       "   {'code': '2022', 'text': '2022'}],\n",
       "  'values': ['1181']},\n",
       " {'key': [{'code': 'E_IND', 'text': 'Indieši'},\n",
       "   {'code': '2023', 'text': '2023'}],\n",
       "  'values': ['338']},\n",
       " {'key': [{'code': 'E_IND', 'text': 'Indieši'},\n",
       "   {'code': '2024', 'text': '2024'}],\n",
       "  'values': ['336']},\n",
       " {'key': [{'code': 'E_IND', 'text': 'Indieši'},\n",
       "   {'code': '2025', 'text': '2025'}],\n",
       "  'values': ['329']}]"
      ]
     },
     "execution_count": 12,
     "metadata": {},
     "output_type": "execute_result"
    }
   ],
   "source": [
    "scb_fetch = scb_data['data']\n",
    "scb_fetch"
   ]
  },
  {
   "cell_type": "code",
   "execution_count": null,
   "metadata": {},
   "outputs": [
    {
     "data": {
      "image/png": "[encoded data removed]",
      "text/plain": [
       "<Figure size 640x480 with 1 Axes>"
      ]
     },
     "metadata": {},
     "output_type": "display_data"
    }
   ],
   "source": [
    "df = pd.DataFrame([(int(row['key'][1]['code']), int(row['values'][0]))\n",
    "                   for row in scb_fetch],\n",
    "                  columns=['year', 'population'])\n",
    "plt.plot(df['year'], df['population']);\n"
   ]
  },
  {
   "cell_type": "markdown",
   "metadata": {},
   "source": [
    "# Hierarhiskā navigācija\n",
    "\n",
    "CSB ļauj pārvietoties pa stat.gov.lv direktoriju."
   ]
  },
  {
   "cell_type": "code",
   "execution_count": 16,
   "metadata": {},
   "outputs": [
    {
     "data": {
      "text/plain": [
       "[{'id': 'POP', 'type': 'l', 'text': 'Iedzīvotāji'},\n",
       " {'id': 'EMP', 'type': 'l', 'text': 'Darbs'},\n",
       " {'id': 'VES', 'type': 'l', 'text': 'Sociālā aizsardzība un veselība'},\n",
       " {'id': 'IZG', 'type': 'l', 'text': 'Izglītība, kultūra un zinātne'},\n",
       " {'id': 'VEK', 'type': 'l', 'text': 'Valsts un ekonomika'},\n",
       " {'id': 'TIR', 'type': 'l', 'text': 'Tirdzniecība un pakalpojumi'},\n",
       " {'id': 'ENT', 'type': 'l', 'text': 'Uzņēmējdarbība'},\n",
       " {'id': 'IKT', 'type': 'l', 'text': 'Informācijas tehnoloģijas'},\n",
       " {'id': 'NOZ', 'type': 'l', 'text': 'Nozares'},\n",
       " {'id': 'ENV', 'type': 'l', 'text': 'Vide'},\n",
       " {'id': 'FIN', 'type': 'l', 'text': 'Labklājības un vienlīdzības rādītāji'}]"
      ]
     },
     "execution_count": 16,
     "metadata": {},
     "output_type": "execute_result"
    }
   ],
   "source": [
    "csb = CSB('lv')\n",
    "csb.info()"
   ]
  },
  {
   "cell_type": "code",
   "execution_count": 17,
   "metadata": {},
   "outputs": [
    {
     "data": {
      "text/plain": [
       "[{'id': 'IR',\n",
       "  'type': 'l',\n",
       "  'text': 'Iedzīvotāju skaits un raksturojošie rādītāji'},\n",
       " {'id': 'ID', 'type': 'l', 'text': 'Dzimstība'},\n",
       " {'id': 'IM', 'type': 'l', 'text': 'Mirstība'},\n",
       " {'id': 'NC', 'type': 'l', 'text': 'Nāves cēloņi'},\n",
       " {'id': 'IL', 'type': 'l', 'text': 'Laulības'},\n",
       " {'id': 'IB', 'type': 'l', 'text': 'Migrācija'},\n",
       " {'id': 'PM', 'type': 'l', 'text': 'Patvēruma meklētāji un bēgļi'},\n",
       " {'id': 'MV', 'type': 'l', 'text': 'Privāto mājsaimniecību un ģimeņu skaits'},\n",
       " {'id': 'MI', 'type': 'l', 'text': 'Mājsaimniecību un iedzīvotāju ienākumi'},\n",
       " {'id': 'MB', 'type': 'l', 'text': 'Mājsaimniecību izdevumi un patēriņš'},\n",
       " {'id': 'NN',\n",
       "  'type': 'l',\n",
       "  'text': 'Monetārā nabadzība, nevienlīdzība un sociālā atstumtība'},\n",
       " {'id': 'MA', 'type': 'l', 'text': 'Mājokļi'},\n",
       " {'id': 'NO', 'type': 'l', 'text': 'Noziegumi, apsūdzētie un cietušie'},\n",
       " {'id': 'TS', 'type': 'l', 'text': 'Tiesu sistēma un ieslodzījuma vietas'},\n",
       " {'id': 'UG', 'type': 'l', 'text': 'Ugunsgrēki un glābšanas darbi'}]"
      ]
     },
     "execution_count": 17,
     "metadata": {},
     "output_type": "execute_result"
    }
   ],
   "source": [
    "csb.go_down('POP')\n",
    "csb.info()"
   ]
  },
  {
   "cell_type": "code",
   "execution_count": 18,
   "metadata": {},
   "outputs": [
    {
     "data": {
      "text/plain": [
       "[{'id': 'MAS', 'type': 'l', 'text': 'Mājokļu skaits un veids'},\n",
       " {'id': 'MAA', 'type': 'l', 'text': 'Mājokļa apstākļi (EU-SILC)'},\n",
       " {'id': 'MAI', 'type': 'l', 'text': 'Izdevumi mājokļa uzturēšanai (EU-SILC)'},\n",
       " {'id': 'A_MA', 'type': 'l', 'text': 'Arhīvs - mājokļi'}]"
      ]
     },
     "execution_count": 18,
     "metadata": {},
     "output_type": "execute_result"
    }
   ],
   "source": [
    "csb.go_down('MA')\n",
    "csb.info()"
   ]
  },
  {
   "cell_type": "code",
   "execution_count": 19,
   "metadata": {},
   "outputs": [
    {
     "data": {
      "text/plain": [
       "[{'id': 'MAA010',\n",
       "  'type': 't',\n",
       "  'text': 'Mājsaimniecību īpatsvars, kas norādījušas atsevišķas problēmas saistībā ar sava mājokļa vidi (procentos) 2005 - 2023',\n",
       "  'updated': '2024-05-22T11:20:00'},\n",
       " {'id': 'MAA020',\n",
       "  'type': 't',\n",
       "  'text': 'Mājokļu vispārējais raksturojums 2005 - 2024',\n",
       "  'updated': '2025-03-03T13:00:00'},\n",
       " {'id': 'MAA030',\n",
       "  'type': 't',\n",
       "  'text': 'Mājokļa veids (procentos) 2005 - 2024',\n",
       "  'updated': '2025-03-03T13:00:00'},\n",
       " {'id': 'MAA040',\n",
       "  'type': 't',\n",
       "  'text': 'Mājokļu labiekārtotība (procentos) 2008 - 2024',\n",
       "  'updated': '2025-03-03T13:00:00'}]"
      ]
     },
     "execution_count": 19,
     "metadata": {},
     "output_type": "execute_result"
    }
   ],
   "source": [
    "csb.go_down('MAA')\n",
    "csb.info()"
   ]
  },
  {
   "cell_type": "code",
   "execution_count": 20,
   "metadata": {},
   "outputs": [
    {
     "data": {
      "text/plain": [
       "{'title': 'Mājokļu vispārējais raksturojums - Rādītāji, Mājokļa raksturojums un Laika periods',\n",
       " 'variables': [{'code': 'INDICATOR',\n",
       "   'text': 'Rādītāji',\n",
       "   'values': ['ALL',\n",
       "    'A1_CH',\n",
       "    'A1_16_64',\n",
       "    'A1_GE65',\n",
       "    'A2_NCH',\n",
       "    'A2_1CH',\n",
       "    'A2_2CH',\n",
       "    'A2_GE3CH',\n",
       "    'LV',\n",
       "    'LV00A',\n",
       "    'LV006',\n",
       "    'LV007',\n",
       "    'LV00C',\n",
       "    'LV008',\n",
       "    'LV00B',\n",
       "    'LV003',\n",
       "    'LV009',\n",
       "    'LV005',\n",
       "    'LV0001000',\n",
       "    'RURAL',\n",
       "    'URBAN'],\n",
       "   'valueTexts': ['Pavisam',\n",
       "    'Viens pieaugušais ar bērniem',\n",
       "    'Viena persona (16-64 gadi)',\n",
       "    'Viena persona (65 gadi un vairāk)',\n",
       "    'Pāris bez bērniem',\n",
       "    'Pāris ar vienu bērnu',\n",
       "    'Pāris ar diviem bērniem',\n",
       "    'Pāris ar trīs vai vairāk bērniem',\n",
       "    'Latvija',\n",
       "    'Rīgas statistiskais reģions (no 01.01.2024.)',\n",
       "    'Rīgas statistiskais reģions (Rīga) (līdz 01.01.2024.)',\n",
       "    'Pierīgas statistiskais reģions (līdz 01.01.2024.)',\n",
       "    'Vidzemes statistiskais reģions (no 01.01.2024.)',\n",
       "    'Vidzemes statistiskais reģions (līdz 01.01.2024.)',\n",
       "    'Kurzemes statistiskais reģions (no 01.01.2024.)',\n",
       "    'Kurzemes statistiskais reģions (līdz 01.01.2024.)',\n",
       "    'Zemgales statistiskais reģions',\n",
       "    'Latgales statistiskais reģions',\n",
       "    'Rīga',\n",
       "    'Lauku teritorijas',\n",
       "    'Pilsētas'],\n",
       "   'elimination': True},\n",
       "  {'code': 'ContentsCode',\n",
       "   'text': 'Mājokļa raksturojums',\n",
       "   'values': ['MAA020', 'MAA0201', 'MAA0202'],\n",
       "   'valueTexts': ['Vidējais istabu skaits mājsaimniecību lietošanā',\n",
       "    'Istabu skaits uz vienu mājsaimniecības locekli',\n",
       "    'Mājokļa vidējā platība, m2']},\n",
       "  {'code': 'TIME',\n",
       "   'text': 'Laika periods',\n",
       "   'values': ['2005',\n",
       "    '2006',\n",
       "    '2007',\n",
       "    '2008',\n",
       "    '2009',\n",
       "    '2010',\n",
       "    '2011',\n",
       "    '2012',\n",
       "    '2013',\n",
       "    '2014',\n",
       "    '2015',\n",
       "    '2016',\n",
       "    '2017',\n",
       "    '2018',\n",
       "    '2019',\n",
       "    '2020',\n",
       "    '2021',\n",
       "    '2022',\n",
       "    '2023',\n",
       "    '2024'],\n",
       "   'valueTexts': ['2005',\n",
       "    '2006',\n",
       "    '2007',\n",
       "    '2008',\n",
       "    '2009',\n",
       "    '2010',\n",
       "    '2011',\n",
       "    '2012',\n",
       "    '2013',\n",
       "    '2014',\n",
       "    '2015',\n",
       "    '2016',\n",
       "    '2017',\n",
       "    '2018',\n",
       "    '2019',\n",
       "    '2020',\n",
       "    '2021',\n",
       "    '2022',\n",
       "    '2023',\n",
       "    '2024'],\n",
       "   'time': True}]}"
      ]
     },
     "execution_count": 20,
     "metadata": {},
     "output_type": "execute_result"
    }
   ],
   "source": [
    "csb.go_down('MAA020')\n",
    "csb.info()"
   ]
  },
  {
   "cell_type": "markdown",
   "metadata": {},
   "source": [
    "Ja codes=True vai codes nav norādīts, tad atgriež kodus pēc noklusējuma"
   ]
  },
  {
   "cell_type": "code",
   "execution_count": 32,
   "metadata": {},
   "outputs": [
    {
     "data": {
      "text/plain": [
       "['ALL',\n",
       " 'A1_CH',\n",
       " 'A1_16_64',\n",
       " 'A1_GE65',\n",
       " 'A2_NCH',\n",
       " 'A2_1CH',\n",
       " 'A2_2CH',\n",
       " 'A2_GE3CH',\n",
       " 'LV',\n",
       " 'LV00A',\n",
       " 'LV006',\n",
       " 'LV007',\n",
       " 'LV00C',\n",
       " 'LV008',\n",
       " 'LV00B',\n",
       " 'LV003',\n",
       " 'LV009',\n",
       " 'LV005',\n",
       " 'LV0001000',\n",
       " 'RURAL',\n",
       " 'URBAN']"
      ]
     },
     "execution_count": 32,
     "metadata": {},
     "output_type": "execute_result"
    }
   ],
   "source": [
    "csb.get_variables()['INDICATOR']\n"
   ]
  },
  {
   "cell_type": "markdown",
   "metadata": {},
   "source": [
    "Ja codes=False atgriež nosaukumus"
   ]
  },
  {
   "cell_type": "code",
   "execution_count": 33,
   "metadata": {},
   "outputs": [
    {
     "data": {
      "text/plain": [
       "['Pavisam',\n",
       " 'Viens pieaugušais ar bērniem',\n",
       " 'Viena persona (16-64 gadi)',\n",
       " 'Viena persona (65 gadi un vairāk)',\n",
       " 'Pāris bez bērniem',\n",
       " 'Pāris ar vienu bērnu',\n",
       " 'Pāris ar diviem bērniem',\n",
       " 'Pāris ar trīs vai vairāk bērniem',\n",
       " 'Latvija',\n",
       " 'Rīgas statistiskais reģions (no 01.01.2024.)',\n",
       " 'Rīgas statistiskais reģions (Rīga) (līdz 01.01.2024.)',\n",
       " 'Pierīgas statistiskais reģions (līdz 01.01.2024.)',\n",
       " 'Vidzemes statistiskais reģions (no 01.01.2024.)',\n",
       " 'Vidzemes statistiskais reģions (līdz 01.01.2024.)',\n",
       " 'Kurzemes statistiskais reģions (no 01.01.2024.)',\n",
       " 'Kurzemes statistiskais reģions (līdz 01.01.2024.)',\n",
       " 'Zemgales statistiskais reģions',\n",
       " 'Latgales statistiskais reģions',\n",
       " 'Rīga',\n",
       " 'Lauku teritorijas',\n",
       " 'Pilsētas']"
      ]
     },
     "execution_count": 33,
     "metadata": {},
     "output_type": "execute_result"
    }
   ],
   "source": [
    "csb.get_variables(codes=False)['INDICATOR']"
   ]
  }
 ],
 "metadata": {
  "kernelspec": {
   "display_name": "Python 3 (ipykernel)",
   "language": "python",
   "name": "python3"
  },
  "language_info": {
   "codemirror_mode": {
    "name": "ipython",
    "version": 3
   },
   "file_extension": ".py",
   "mimetype": "text/x-python",
   "name": "python",
   "nbconvert_exporter": "python",
   "pygments_lexer": "ipython3",
   "version": "3.12.1"
  }
 },
 "nbformat": 4,
 "nbformat_minor": 2
}
