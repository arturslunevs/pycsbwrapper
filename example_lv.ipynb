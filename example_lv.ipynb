{
 "cells": [
  {
   "cell_type": "code",
   "execution_count": 2,
   "metadata": {},
   "outputs": [],
   "source": [
    "from pycspwrapper import LVStat\n",
    "from matplotlib import pyplot as plt\n",
    "\n",
    "import pandas as pd"
   ]
  },
  {
   "cell_type": "markdown",
   "metadata": {},
   "source": [
    "# Datu ielādes paragus\n",
    "\n",
    "Izmantosim LVStat klasi lai iegūt un attēlot Indiešu skaitu latvijā."
   ]
  },
  {
   "cell_type": "code",
   "execution_count": 7,
   "metadata": {},
   "outputs": [
    {
     "data": {
      "text/plain": [
       "{'query': [{'code': 'ETHNICITY',\n",
       "   'selection': {'filter': 'item', 'values': ['E_IND']}},\n",
       "  {'code': 'TIME',\n",
       "   'selection': {'filter': 'item',\n",
       "    'values': ['2000',\n",
       "     '2011',\n",
       "     '2012',\n",
       "     '2013',\n",
       "     '2014',\n",
       "     '2015',\n",
       "     '2016',\n",
       "     '2017',\n",
       "     '2018',\n",
       "     '2019',\n",
       "     '2020',\n",
       "     '2021',\n",
       "     '2022',\n",
       "     '2023']}}],\n",
       " 'response': {'format': 'json'}}"
      ]
     },
     "execution_count": 7,
     "metadata": {},
     "output_type": "execute_result"
    }
   ],
   "source": [
    "lvstat = LVStat('lv', 'POP', 'IR', 'IRE', 'IRE010')\n",
    "lvstat.set_query(ETHNICITY=['E_IND'],\n",
    "    TIME = [str(i) for i in range(1990, 2025)])\n",
    "lvstat.get_query()"
   ]
  },
  {
   "cell_type": "code",
   "execution_count": 8,
   "metadata": {},
   "outputs": [
    {
     "data": {
      "text/plain": [
       "{'columns': [{'code': 'ETHNICITY', 'text': 'Tautība', 'type': 'd'},\n",
       "  {'code': 'TIME', 'text': 'Laika periods', 'type': 't'},\n",
       "  {'code': 'Iedzīvotāji pēc tautības gada sākumā',\n",
       "   'text': 'Iedzīvotāji pēc tautības gada sākumā',\n",
       "   'type': 'c'}],\n",
       " 'comments': [{'variable': 'TIME',\n",
       "   'value': '2000',\n",
       "   'comment': 'Tautas skaitīšanas dati 31.03.2000.\\r\\n'}],\n",
       " 'data': [{'key': ['E_IND', '2000'], 'values': ['7']},\n",
       "  {'key': ['E_IND', '2011'], 'values': ['59']},\n",
       "  {'key': ['E_IND', '2012'], 'values': ['57']},\n",
       "  {'key': ['E_IND', '2013'], 'values': ['67']},\n",
       "  {'key': ['E_IND', '2014'], 'values': ['70']},\n",
       "  {'key': ['E_IND', '2015'], 'values': ['101']},\n",
       "  {'key': ['E_IND', '2016'], 'values': ['141']},\n",
       "  {'key': ['E_IND', '2017'], 'values': ['186']},\n",
       "  {'key': ['E_IND', '2018'], 'values': ['661']},\n",
       "  {'key': ['E_IND', '2019'], 'values': ['1137']},\n",
       "  {'key': ['E_IND', '2020'], 'values': ['1351']},\n",
       "  {'key': ['E_IND', '2021'], 'values': ['1139']},\n",
       "  {'key': ['E_IND', '2022'], 'values': ['1181']},\n",
       "  {'key': ['E_IND', '2023'], 'values': ['1654']}],\n",
       " 'metadata': [{'infofile': '001',\n",
       "   'updated': '2024-04-02T15:12:00Z',\n",
       "   'label': 'Iedzīvotāji pēc tautības gada sākumā – Tautība un Laika periods',\n",
       "   'source': 'Centrālā statistikas pārvalde'}]}"
      ]
     },
     "execution_count": 8,
     "metadata": {},
     "output_type": "execute_result"
    }
   ],
   "source": [
    "scb_data = lvstat.get_data()\n",
    "scb_data"
   ]
  },
  {
   "cell_type": "code",
   "execution_count": 9,
   "metadata": {},
   "outputs": [
    {
     "data": {
      "text/plain": [
       "[{'key': ['E_IND', '2000'], 'values': ['7']},\n",
       " {'key': ['E_IND', '2011'], 'values': ['59']},\n",
       " {'key': ['E_IND', '2012'], 'values': ['57']},\n",
       " {'key': ['E_IND', '2013'], 'values': ['67']},\n",
       " {'key': ['E_IND', '2014'], 'values': ['70']},\n",
       " {'key': ['E_IND', '2015'], 'values': ['101']},\n",
       " {'key': ['E_IND', '2016'], 'values': ['141']},\n",
       " {'key': ['E_IND', '2017'], 'values': ['186']},\n",
       " {'key': ['E_IND', '2018'], 'values': ['661']},\n",
       " {'key': ['E_IND', '2019'], 'values': ['1137']},\n",
       " {'key': ['E_IND', '2020'], 'values': ['1351']},\n",
       " {'key': ['E_IND', '2021'], 'values': ['1139']},\n",
       " {'key': ['E_IND', '2022'], 'values': ['1181']},\n",
       " {'key': ['E_IND', '2023'], 'values': ['1654']}]"
      ]
     },
     "execution_count": 9,
     "metadata": {},
     "output_type": "execute_result"
    }
   ],
   "source": [
    "scb_fetch = scb_data['data']\n",
    "scb_fetch"
   ]
  },
  {
   "cell_type": "code",
   "execution_count": 10,
   "metadata": {},
   "outputs": [
    {
     "data": {
      "image/png": "[encoded data removed]",
      "text/plain": [
       "<Figure size 640x480 with 1 Axes>"
      ]
     },
     "metadata": {},
     "output_type": "display_data"
    }
   ],
   "source": [
    "df = pd.DataFrame([(int(row['key'][1]), int(row['values'][0]))\n",
    "                   for row in scb_fetch],\n",
    "                  columns=['year', 'population'])\n",
    "plt.plot(df['year'], df['population']);"
   ]
  },
  {
   "cell_type": "markdown",
   "metadata": {},
   "source": [
    "# Hierarhiskā navigācija\n",
    "\n",
    "LVStat ļaui pārvietoties pa stat.gov.lv direktoriju."
   ]
  },
  {
   "cell_type": "code",
   "execution_count": 27,
   "metadata": {},
   "outputs": [
    {
     "data": {
      "text/plain": [
       "[{'id': 'POP', 'type': 'l', 'text': 'Iedzīvotāji'},\n",
       " {'id': 'EMP', 'type': 'l', 'text': 'Darbs'},\n",
       " {'id': 'VES', 'type': 'l', 'text': 'Sociālā aizsardzība un veselība'},\n",
       " {'id': 'IZG', 'type': 'l', 'text': 'Izglītība, kultūra un zinātne'},\n",
       " {'id': 'VEK', 'type': 'l', 'text': 'Valsts un ekonomika'},\n",
       " {'id': 'TIR', 'type': 'l', 'text': 'Tirdzniecība un pakalpojumi'},\n",
       " {'id': 'ENT', 'type': 'l', 'text': 'Uzņēmējdarbība'},\n",
       " {'id': 'IKT', 'type': 'l', 'text': 'Informācijas tehnoloģijas'},\n",
       " {'id': 'NOZ', 'type': 'l', 'text': 'Nozares'},\n",
       " {'id': 'ENV', 'type': 'l', 'text': 'Vide'},\n",
       " {'id': 'FIN', 'type': 'l', 'text': 'Labklājības un vienlīdzības rādītāji'}]"
      ]
     },
     "execution_count": 27,
     "metadata": {},
     "output_type": "execute_result"
    }
   ],
   "source": [
    "lvstat = LVStat('lv')\n",
    "lvstat.info()"
   ]
  },
  {
   "cell_type": "code",
   "execution_count": 28,
   "metadata": {},
   "outputs": [
    {
     "data": {
      "text/plain": [
       "[{'id': 'IR',\n",
       "  'type': 'l',\n",
       "  'text': 'Iedzīvotāju skaits un raksturojošie rādītāji'},\n",
       " {'id': 'ID', 'type': 'l', 'text': 'Dzimstība'},\n",
       " {'id': 'IM', 'type': 'l', 'text': 'Mirstība'},\n",
       " {'id': 'NC', 'type': 'l', 'text': 'Nāves cēloņi'},\n",
       " {'id': 'IL', 'type': 'l', 'text': 'Laulības'},\n",
       " {'id': 'IB', 'type': 'l', 'text': 'Migrācija'},\n",
       " {'id': 'PM', 'type': 'l', 'text': 'Patvēruma meklētāji un bēgļi'},\n",
       " {'id': 'MV', 'type': 'l', 'text': 'Privāto mājsaimniecību un ģimeņu skaits'},\n",
       " {'id': 'MI', 'type': 'l', 'text': 'Mājsaimniecību ienākumi'},\n",
       " {'id': 'MB', 'type': 'l', 'text': 'Mājsaimniecību izdevumi un patēriņš'},\n",
       " {'id': 'NN',\n",
       "  'type': 'l',\n",
       "  'text': 'Monetārā nabadzība, nevienlīdzība un sociālā atstumtība'},\n",
       " {'id': 'MA', 'type': 'l', 'text': 'Mājokļi'},\n",
       " {'id': 'NO', 'type': 'l', 'text': 'Noziegumi, apsūdzētie un cietušie'},\n",
       " {'id': 'TS', 'type': 'l', 'text': 'Tiesu sistēma un ieslodzījuma vietas'},\n",
       " {'id': 'UG', 'type': 'l', 'text': 'Ugunsgrēki un glābšanas darbi'}]"
      ]
     },
     "execution_count": 28,
     "metadata": {},
     "output_type": "execute_result"
    }
   ],
   "source": [
    "lvstat.go_down('POP')\n",
    "lvstat.info()"
   ]
  },
  {
   "cell_type": "code",
   "execution_count": 29,
   "metadata": {},
   "outputs": [
    {
     "data": {
      "text/plain": [
       "[{'id': 'MAS', 'type': 'l', 'text': 'Mājokļu skaits un veids'},\n",
       " {'id': 'MAA', 'type': 'l', 'text': 'Mājokļa apstākļi (EU-SILC)'},\n",
       " {'id': 'MAI', 'type': 'l', 'text': 'Izdevumi mājokļa uzturēšanai (EU-SILC)'}]"
      ]
     },
     "execution_count": 29,
     "metadata": {},
     "output_type": "execute_result"
    }
   ],
   "source": [
    "lvstat.go_down('MA')\n",
    "lvstat.info()"
   ]
  },
  {
   "cell_type": "code",
   "execution_count": 30,
   "metadata": {},
   "outputs": [
    {
     "data": {
      "text/plain": [
       "[{'id': 'MAA041',\n",
       "  'type': 't',\n",
       "  'text': 'Mājokļu labiekārtotība (procentos) 2008 - 2020',\n",
       "  'updated': '2024-03-01T13:05:00'},\n",
       " {'id': 'MAA011',\n",
       "  'type': 't',\n",
       "  'text': 'Mājsaimniecību īpatsvars, kas norādījušas atsevišķas problēmas saistībā ar sava mājokļa vidi (procentos) 2005 - 2020',\n",
       "  'updated': '2024-03-01T13:04:00'},\n",
       " {'id': 'MAA010',\n",
       "  'type': 't',\n",
       "  'text': 'Mājsaimniecību īpatsvars, kas norādījušas atsevišķas problēmas saistībā ar sava mājokļa vidi (procentos) 2005 - 2023',\n",
       "  'updated': '2024-03-01T13:03:00'},\n",
       " {'id': 'MAA020',\n",
       "  'type': 't',\n",
       "  'text': 'Mājokļu vispārējais raksturojums 2005 - 2023',\n",
       "  'updated': '2024-03-01T13:00:00'},\n",
       " {'id': 'MAA030',\n",
       "  'type': 't',\n",
       "  'text': 'Mājokļa veids (procentos) 2005 - 2023',\n",
       "  'updated': '2024-03-01T13:00:00'},\n",
       " {'id': 'MAA040',\n",
       "  'type': 't',\n",
       "  'text': 'Mājokļu labiekārtotība (procentos) 2008 - 2023',\n",
       "  'updated': '2024-03-01T13:00:00'}]"
      ]
     },
     "execution_count": 30,
     "metadata": {},
     "output_type": "execute_result"
    }
   ],
   "source": [
    "lvstat.go_down('MAA')\n",
    "lvstat.info()"
   ]
  },
  {
   "cell_type": "code",
   "execution_count": 31,
   "metadata": {},
   "outputs": [
    {
     "data": {
      "text/plain": [
       "{'title': 'Mājokļu vispārējais raksturojums – Rādītāji, Mājokļa raksturojums un Laika periods',\n",
       " 'variables': [{'code': 'INDICATOR',\n",
       "   'text': 'Rādītāji',\n",
       "   'values': ['ALL',\n",
       "    'A1_CH',\n",
       "    'A1_16_64',\n",
       "    'A1_GE65',\n",
       "    'A2_NCH',\n",
       "    'A2_1CH',\n",
       "    'A2_2CH',\n",
       "    'A2_GE3CH',\n",
       "    'LV',\n",
       "    'LV00A',\n",
       "    'LV006',\n",
       "    'LV007',\n",
       "    'LV00C',\n",
       "    'LV008',\n",
       "    'LV00B',\n",
       "    'LV003',\n",
       "    'LV009',\n",
       "    'LV005',\n",
       "    'RURAL',\n",
       "    'URBAN'],\n",
       "   'valueTexts': ['Pavisam',\n",
       "    'Viens pieaugušais ar bērniem',\n",
       "    'Viena persona (16-64 gadi)',\n",
       "    'Viena persona (65 gadi un vairāk)',\n",
       "    'Pāris bez bērniem',\n",
       "    'Pāris ar vienu bērnu',\n",
       "    'Pāris ar diviem bērniem',\n",
       "    'Pāris ar trīs vai vairāk bērniem',\n",
       "    'Latvija',\n",
       "    'Rīgas statistiskais reģions (no 01.01.2024.)',\n",
       "    'Rīgas statistiskais reģions (Rīga) (līdz 01.01.2024.)',\n",
       "    'Pierīgas statistiskais reģions (līdz 01.01.2024.)',\n",
       "    'Vidzemes statistiskais reģions (no 01.01.2024.)',\n",
       "    'Vidzemes statistiskais reģions (līdz 01.01.2024.)',\n",
       "    'Kurzemes statistiskais reģions (no 01.01.2024.)',\n",
       "    'Kurzemes statistiskais reģions (līdz 01.01.2024.)',\n",
       "    'Zemgales statistiskais reģions',\n",
       "    'Latgales statistiskais reģions',\n",
       "    'Lauku teritorijas',\n",
       "    'Pilsētas'],\n",
       "   'elimination': True},\n",
       "  {'code': 'ContentsCode',\n",
       "   'text': 'Mājokļa raksturojums',\n",
       "   'values': ['MAA020', 'MAA0201', 'MAA0202'],\n",
       "   'valueTexts': ['Vidējais istabu skaits mājsaimniecību lietošanā',\n",
       "    'Istabu skaits uz vienu mājsaimniecības locekli',\n",
       "    'Mājokļa vidējā platība, m2']},\n",
       "  {'code': 'TIME',\n",
       "   'text': 'Laika periods',\n",
       "   'values': ['2005',\n",
       "    '2006',\n",
       "    '2007',\n",
       "    '2008',\n",
       "    '2009',\n",
       "    '2010',\n",
       "    '2011',\n",
       "    '2012',\n",
       "    '2013',\n",
       "    '2014',\n",
       "    '2015',\n",
       "    '2016',\n",
       "    '2017',\n",
       "    '2018',\n",
       "    '2019',\n",
       "    '2020',\n",
       "    '2021',\n",
       "    '2022',\n",
       "    '2023'],\n",
       "   'valueTexts': ['2005',\n",
       "    '2006',\n",
       "    '2007',\n",
       "    '2008',\n",
       "    '2009',\n",
       "    '2010',\n",
       "    '2011',\n",
       "    '2012',\n",
       "    '2013',\n",
       "    '2014',\n",
       "    '2015',\n",
       "    '2016',\n",
       "    '2017',\n",
       "    '2018',\n",
       "    '2019',\n",
       "    '2020',\n",
       "    '2021',\n",
       "    '2022',\n",
       "    '2023'],\n",
       "   'time': True}]}"
      ]
     },
     "execution_count": 31,
     "metadata": {},
     "output_type": "execute_result"
    }
   ],
   "source": [
    "lvstat.go_down('MAA020')\n",
    "lvstat.info()"
   ]
  },
  {
   "cell_type": "code",
   "execution_count": 32,
   "metadata": {},
   "outputs": [
    {
     "data": {
      "text/plain": [
       "{'Rādītāji': ['Pavisam',\n",
       "  'Viens pieaugušais ar bērniem',\n",
       "  'Viena persona (16-64 gadi)',\n",
       "  'Viena persona (65 gadi un vairāk)',\n",
       "  'Pāris bez bērniem',\n",
       "  'Pāris ar vienu bērnu',\n",
       "  'Pāris ar diviem bērniem',\n",
       "  'Pāris ar trīs vai vairāk bērniem',\n",
       "  'Latvija',\n",
       "  'Rīgas statistiskais reģions (no 01.01.2024.)',\n",
       "  'Rīgas statistiskais reģions (Rīga) (līdz 01.01.2024.)',\n",
       "  'Pierīgas statistiskais reģions (līdz 01.01.2024.)',\n",
       "  'Vidzemes statistiskais reģions (no 01.01.2024.)',\n",
       "  'Vidzemes statistiskais reģions (līdz 01.01.2024.)',\n",
       "  'Kurzemes statistiskais reģions (no 01.01.2024.)',\n",
       "  'Kurzemes statistiskais reģions (līdz 01.01.2024.)',\n",
       "  'Zemgales statistiskais reģions',\n",
       "  'Latgales statistiskais reģions',\n",
       "  'Lauku teritorijas',\n",
       "  'Pilsētas'],\n",
       " 'Mājokļa raksturojums': ['Vidējais istabu skaits mājsaimniecību lietošanā',\n",
       "  'Istabu skaits uz vienu mājsaimniecības locekli',\n",
       "  'Mājokļa vidējā platība, m2'],\n",
       " 'Laika periods': ['2005',\n",
       "  '2006',\n",
       "  '2007',\n",
       "  '2008',\n",
       "  '2009',\n",
       "  '2010',\n",
       "  '2011',\n",
       "  '2012',\n",
       "  '2013',\n",
       "  '2014',\n",
       "  '2015',\n",
       "  '2016',\n",
       "  '2017',\n",
       "  '2018',\n",
       "  '2019',\n",
       "  '2020',\n",
       "  '2021',\n",
       "  '2022',\n",
       "  '2023']}"
      ]
     },
     "execution_count": 32,
     "metadata": {},
     "output_type": "execute_result"
    }
   ],
   "source": [
    "lvstat.get_variables()"
   ]
  }
 ],
 "metadata": {
  "kernelspec": {
   "display_name": "Python 3",
   "language": "python",
   "name": "python3"
  },
  "language_info": {
   "codemirror_mode": {
    "name": "ipython",
    "version": 3
   },
   "file_extension": ".py",
   "mimetype": "text/x-python",
   "name": "python",
   "nbconvert_exporter": "python",
   "pygments_lexer": "ipython3",
   "version": "3.12.0"
  }
 },
 "nbformat": 4,
 "nbformat_minor": 2
}
